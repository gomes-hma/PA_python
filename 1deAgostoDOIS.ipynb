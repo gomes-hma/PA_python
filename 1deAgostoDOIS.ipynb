{
  "nbformat": 4,
  "nbformat_minor": 0,
  "metadata": {
    "colab": {
      "provenance": [],
      "authorship_tag": "ABX9TyPcMB5BTUZKHCkRzv0QdZuk",
      "include_colab_link": true
    },
    "kernelspec": {
      "name": "python3",
      "display_name": "Python 3"
    },
    "language_info": {
      "name": "python"
    }
  },
  "cells": [
    {
      "cell_type": "markdown",
      "metadata": {
        "id": "view-in-github",
        "colab_type": "text"
      },
      "source": [
        "<a href=\"https://colab.research.google.com/github/gomes-hma/PA_python/blob/main/1deAgostoDOIS.ipynb\" target=\"_parent\"><img src=\"https://colab.research.google.com/assets/colab-badge.svg\" alt=\"Open In Colab\"/></a>"
      ]
    },
    {
      "cell_type": "markdown",
      "source": [
        "1- numeros pares e impares em uma lista o usuario digita uma sequencia de numeros separados por espaço o programa deve trabnsformar em lista de inteiros\n",
        "usando \"for\", deve contar quansto sao pares e quantos são impares"
      ],
      "metadata": {
        "id": "w1tF2hfnvM_Z"
      }
    },
    {
      "cell_type": "code",
      "source": [
        "\n",
        "entrada = input(\"Digite uma sequência de números separados por espaço: \")\n",
        "\n",
        "numeros = []\n",
        "for num in entrada.split():\n",
        "    numeros.append(int(num))\n",
        "\n",
        "\n",
        "pares = 0\n",
        "impares = 0\n",
        "\n",
        "\n",
        "for n in numeros:\n",
        "    if n % 2 == 0:\n",
        "        pares += 1\n",
        "    else:\n",
        "        impares += 1\n",
        "\n",
        "\n",
        "print(f\"Quantidade de números pares: {pares}\")\n",
        "print(f\"Quantidade de números ímpares: {impares}\")\n"
      ],
      "metadata": {
        "colab": {
          "base_uri": "https://localhost:8080/"
        },
        "id": "fCy8yW1VvViw",
        "outputId": "ec29b42d-a1d2-400c-a3ff-151e0d2f0709"
      },
      "execution_count": 35,
      "outputs": [
        {
          "output_type": "stream",
          "name": "stdout",
          "text": [
            "Digite uma sequência de números separados por espaço: 21 34 2342 5 2 3515 2523 52\n",
            "Quantidade de números pares: 4\n",
            "Quantidade de números ímpares: 4\n"
          ]
        }
      ]
    },
    {
      "cell_type": "markdown",
      "source": [
        "adivnhar um numero secreto\n",
        "\n",
        "o programa escolhe um numero secreto (ex 1 a 20)\n",
        "o usuario tenta adivinhar\n",
        "enuqanto nao acertar, o programas da dicas(maior ou menor)\n",
        "quando acertar o loop acaba\n",
        "\n",
        "dica para numero aleatorio\n",
        "\n",
        "secreto =random.randint(1, 20)\n",
        " tentativa = None"
      ],
      "metadata": {
        "id": "h1pGG8-8va_o"
      }
    },
    {
      "cell_type": "code",
      "source": [
        "import random\n",
        "secreto = random.randint(1, 20)\n",
        "sla = None\n",
        "\n",
        "while sla == None:\n",
        "  tentativa = int(input(\"Digite um número entre 1 e 20: \"))\n",
        "\n",
        "  if tentativa == secreto:\n",
        "\n",
        "    print(\"você acertou\")\n",
        "    break\n",
        "\n",
        "  elif tentativa < secreto:\n",
        "    print(\"menor que o numero secreto\")\n",
        "\n",
        "  else:\n",
        "    print(\"maior que o numero secreto\")"
      ],
      "metadata": {
        "colab": {
          "base_uri": "https://localhost:8080/"
        },
        "collapsed": true,
        "id": "53pQxxR1xQLB",
        "outputId": "3feb6dfa-2744-48dd-d471-2f48554388f0"
      },
      "execution_count": 33,
      "outputs": [
        {
          "output_type": "stream",
          "name": "stdout",
          "text": [
            "Digite um número entre 1 e 20: 7\n",
            "menor que o numero secreto\n",
            "Digite um número entre 1 e 20: 3\n",
            "menor que o numero secreto\n",
            "Digite um número entre 1 e 20: 2\n",
            "menor que o numero secreto\n",
            "Digite um número entre 1 e 20: 1\n",
            "menor que o numero secreto\n",
            "Digite um número entre 1 e 20: 19\n",
            "maior que o numero secreto\n",
            "Digite um número entre 1 e 20: 17\n",
            "maior que o numero secreto\n",
            "Digite um número entre 1 e 20: 15\n",
            "maior que o numero secreto\n",
            "Digite um número entre 1 e 20: 12\n",
            "você acertou\n"
          ]
        }
      ]
    },
    {
      "cell_type": "markdown",
      "source": [
        "contar vogais em varias palavras\n",
        "\n",
        "o usuario digita uma lista de palavras(separadas por espaço)\n",
        "o programa deve percorrer cada palavra usando for\n",
        "em cada palavra contar quantas vogais existem\n",
        "mostrar no final o total de vogais em todas palavras\n"
      ],
      "metadata": {
        "id": "mA558RqR37dN"
      }
    },
    {
      "cell_type": "code",
      "source": [
        "\n",
        "entrada = input(\"Digite várias palavras separadas por espaço: \")\n",
        "\n",
        "palavras = entrada.split()\n",
        "\n",
        "vogais = \"aeiouAEIOU\"\n",
        "total_vogais = 0\n",
        "\n",
        "for palavra in palavras:\n",
        "    for letra in palavra:\n",
        "        if letra in vogais:\n",
        "            total_vogais += 1\n",
        "\n",
        "print(f\"Total de vogais em todas as palavras: {total_vogais}\")\n"
      ],
      "metadata": {
        "colab": {
          "base_uri": "https://localhost:8080/"
        },
        "id": "uRpXZGLJ4Y7u",
        "outputId": "31286bb9-9804-4183-d3a2-75d25c5b58c3"
      },
      "execution_count": 34,
      "outputs": [
        {
          "output_type": "stream",
          "name": "stdout",
          "text": [
            "Digite várias palavras separadas por espaço: artadshysrs rsaeyeax tzsez nwwa eswx\n",
            "Total de vogais em todas as palavras: 9\n"
          ]
        }
      ]
    }
  ]
}