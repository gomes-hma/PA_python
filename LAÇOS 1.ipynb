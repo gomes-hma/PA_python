{
  "nbformat": 4,
  "nbformat_minor": 0,
  "metadata": {
    "colab": {
      "provenance": [],
      "authorship_tag": "ABX9TyMlXDj6t6OFJoX0LPWoxXU6",
      "include_colab_link": true
    },
    "kernelspec": {
      "name": "python3",
      "display_name": "Python 3"
    },
    "language_info": {
      "name": "python"
    }
  },
  "cells": [
    {
      "cell_type": "markdown",
      "metadata": {
        "id": "view-in-github",
        "colab_type": "text"
      },
      "source": [
        "<a href=\"https://colab.research.google.com/github/gomes-hma/PA_python/blob/main/LA%C3%87OS%201.ipynb\" target=\"_parent\"><img src=\"https://colab.research.google.com/assets/colab-badge.svg\" alt=\"Open In Colab\"/></a>"
      ]
    },
    {
      "cell_type": "code",
      "execution_count": 11,
      "metadata": {
        "colab": {
          "base_uri": "https://localhost:8080/"
        },
        "id": "Zb0c2gfoek0-",
        "outputId": "2067c972-e179-497a-a40b-56efd8b7a39a"
      },
      "outputs": [
        {
          "output_type": "stream",
          "name": "stdout",
          "text": [
            "1\n",
            "3\n",
            "5\n",
            "7\n",
            "9\n",
            "11\n",
            "13\n",
            "15\n",
            "17\n",
            "19\n",
            "21\n",
            "23\n",
            "25\n",
            "27\n",
            "29\n"
          ]
        }
      ],
      "source": [
        "#1) MOSTRAR TODOS OS NÚMEROS ÍMPARES DE 1 A 30\n",
        "for contador in range(1,31, 2):\n",
        "    print(contador)"
      ]
    },
    {
      "cell_type": "code",
      "source": [
        "#1) MOSTRAR TODOS OS NÚMEROS ÍMPARES DE 1 A 30\n",
        "print(\"Números ímpares de 1 a 30:\")\n",
        "for i in range(1, 31):\n",
        "    if i % 2 != 0:\n",
        "        print(i)\n",
        "\n",
        "soma_positivos = 0\n",
        "quantidade_negativos = 0\n",
        "#2) Escreva um algoritmo que leia 20 valores inteiros e ao final exiba:7\n",
        "print(\"\\nInsira 20 valores inteiros:\")\n",
        "for _ in range(20):\n",
        "    valor = int(input())\n",
        "    if valor > 0:\n",
        "        soma_positivos += valor\n",
        "    elif valor < 0:\n",
        "        quantidade_negativos += 1\n",
        "\n",
        "print(f\"Soma dos números positivos: {soma_positivos}\")\n",
        "print(f\"Quantidade de valores negativos: {quantidade_negativos}\")"
      ],
      "metadata": {
        "colab": {
          "base_uri": "https://localhost:8080/"
        },
        "id": "qG4X_urWffMP",
        "outputId": "5e8008bd-a14c-4ba3-9903-ed4e52a0a1cc"
      },
      "execution_count": 65,
      "outputs": [
        {
          "output_type": "stream",
          "name": "stdout",
          "text": [
            "Números ímpares de 1 a 30:\n",
            "1\n",
            "3\n",
            "5\n",
            "7\n",
            "9\n",
            "11\n",
            "13\n",
            "15\n",
            "17\n",
            "19\n",
            "21\n",
            "23\n",
            "25\n",
            "27\n",
            "29\n",
            "\n",
            "Insira 20 valores inteiros:\n",
            "4\n",
            "4\n",
            "4\n",
            "4\n",
            "5\n",
            "6\n",
            "8\n",
            "34\n",
            "5\n",
            "2\n",
            "4\n",
            "6\n",
            "8\n",
            "9\n",
            "7\n",
            "5\n",
            "3\n",
            "1\n",
            "3\n",
            "5\n",
            "Soma dos números positivos: 127\n",
            "Quantidade de valores negativos: 0\n"
          ]
        }
      ]
    },
    {
      "cell_type": "code",
      "source": [
        "#2) CONTADOR DE UM NÚMERO INCIAL E UM NÚMERO FINAL DIGITADOS PELO USUÁRIO\n",
        "\n",
        "def contador_usuario():\n",
        "  try:\n",
        "    inicio = int(input(\"Digite o número inicial: \"))\n",
        "    fim = int(input(\"Digite o número final: \"))\n",
        "\n",
        "    if inicio <= fim:\n",
        "      for i in range(inicio, fim + 1):\n",
        "        print(i)\n",
        "    else:\n",
        "      for i in range(inicio, fim - 1, -1):\n",
        "        print(i)\n",
        "\n",
        "  except ValueError:\n",
        "    print(\"Por favor, insira apenas números inteiros.\")\n",
        "\n",
        "contador_usuario()"
      ],
      "metadata": {
        "colab": {
          "base_uri": "https://localhost:8080/"
        },
        "id": "H4egvKyep-wg",
        "outputId": "426e20a4-b54c-4737-c05f-0de226761f92"
      },
      "execution_count": 66,
      "outputs": [
        {
          "output_type": "stream",
          "name": "stdout",
          "text": [
            "Digite o número inicial: 56\n",
            "Digite o número final: 43\n",
            "56\n",
            "55\n",
            "54\n",
            "53\n",
            "52\n",
            "51\n",
            "50\n",
            "49\n",
            "48\n",
            "47\n",
            "46\n",
            "45\n",
            "44\n",
            "43\n"
          ]
        }
      ]
    },
    {
      "cell_type": "code",
      "source": [
        "#3) SOME TODOS OS NÚMEROS DE 1 A 10\n",
        "soma = 0\n",
        "for i in range(1, 11):\n",
        "  soma += i\n",
        "print(soma)"
      ],
      "metadata": {
        "colab": {
          "base_uri": "https://localhost:8080/"
        },
        "id": "1gL6TSroonFf",
        "outputId": "3a4d4e77-1cd5-4d93-b2c4-3844507cef08"
      },
      "execution_count": 61,
      "outputs": [
        {
          "output_type": "stream",
          "name": "stdout",
          "text": [
            "55\n"
          ]
        }
      ]
    },
    {
      "cell_type": "code",
      "source": [
        "#4) USANDO O WHILE PERGUNTE AO USUÁRIO QUAL A MELHOR ESCOLHA DE RIBEIRÃO PIRES, ENQUANTO A PESSOA NÃO DIGITAR \"ETEC MCM\", ENQUANTO NÃO DIGITA CERTO ELE VAI INFORMANDO QUE O USUÁRIO ERROU\n",
        "print(\"Qual a melhor escola de ribeirão pires?\")\n",
        "m = input(int)\n",
        "\n",
        "while m != \"etec mcm\":\n",
        "  print(\"errado\")\n",
        "  input(int)\n",
        "else: print(\"certo!\")\n"
      ],
      "metadata": {
        "colab": {
          "base_uri": "https://localhost:8080/",
          "height": 373
        },
        "id": "4GgbbSpBiMj9",
        "outputId": "9848eebb-b274-4374-af39-f5211be87427"
      },
      "execution_count": 54,
      "outputs": [
        {
          "output_type": "stream",
          "name": "stdout",
          "text": [
            "Qual a melhor escola de ribeirão pires?\n"
          ]
        },
        {
          "output_type": "error",
          "ename": "KeyboardInterrupt",
          "evalue": "Interrupted by user",
          "traceback": [
            "\u001b[0;31m---------------------------------------------------------------------------\u001b[0m",
            "\u001b[0;31mKeyboardInterrupt\u001b[0m                         Traceback (most recent call last)",
            "\u001b[0;32m/tmp/ipython-input-1171667219.py\u001b[0m in \u001b[0;36m<cell line: 0>\u001b[0;34m()\u001b[0m\n\u001b[1;32m      1\u001b[0m \u001b[0;31m#4) USANDO O WHILE PERGUNTE AO USUÁRIO QUAL A MELHOR ESCOLHA DE RIBEIRÃO PIRES, ENQUANTO A PESSOA NÃO DIGITAR \"ETEC MCM\", ENQUANTO NÃO DIGITA CERTO ELE VAI INFORMANDO QUE O USUÁRIO ERROU\u001b[0m\u001b[0;34m\u001b[0m\u001b[0;34m\u001b[0m\u001b[0m\n\u001b[1;32m      2\u001b[0m \u001b[0mprint\u001b[0m\u001b[0;34m(\u001b[0m\u001b[0;34m\"Qual a melhor escola de ribeirão pires?\"\u001b[0m\u001b[0;34m)\u001b[0m\u001b[0;34m\u001b[0m\u001b[0;34m\u001b[0m\u001b[0m\n\u001b[0;32m----> 3\u001b[0;31m \u001b[0mm\u001b[0m \u001b[0;34m=\u001b[0m \u001b[0minput\u001b[0m\u001b[0;34m(\u001b[0m\u001b[0mint\u001b[0m\u001b[0;34m)\u001b[0m\u001b[0;34m\u001b[0m\u001b[0;34m\u001b[0m\u001b[0m\n\u001b[0m\u001b[1;32m      4\u001b[0m \u001b[0;34m\u001b[0m\u001b[0m\n\u001b[1;32m      5\u001b[0m \u001b[0;32mwhile\u001b[0m \u001b[0mm\u001b[0m \u001b[0;34m!=\u001b[0m \u001b[0;34m\"etec mcm\"\u001b[0m\u001b[0;34m:\u001b[0m\u001b[0;34m\u001b[0m\u001b[0;34m\u001b[0m\u001b[0m\n",
            "\u001b[0;32m/usr/local/lib/python3.11/dist-packages/ipykernel/kernelbase.py\u001b[0m in \u001b[0;36mraw_input\u001b[0;34m(self, prompt)\u001b[0m\n\u001b[1;32m   1175\u001b[0m                 \u001b[0;34m\"raw_input was called, but this frontend does not support input requests.\"\u001b[0m\u001b[0;34m\u001b[0m\u001b[0;34m\u001b[0m\u001b[0m\n\u001b[1;32m   1176\u001b[0m             )\n\u001b[0;32m-> 1177\u001b[0;31m         return self._input_request(\n\u001b[0m\u001b[1;32m   1178\u001b[0m             \u001b[0mstr\u001b[0m\u001b[0;34m(\u001b[0m\u001b[0mprompt\u001b[0m\u001b[0;34m)\u001b[0m\u001b[0;34m,\u001b[0m\u001b[0;34m\u001b[0m\u001b[0;34m\u001b[0m\u001b[0m\n\u001b[1;32m   1179\u001b[0m             \u001b[0mself\u001b[0m\u001b[0;34m.\u001b[0m\u001b[0m_parent_ident\u001b[0m\u001b[0;34m[\u001b[0m\u001b[0;34m\"shell\"\u001b[0m\u001b[0;34m]\u001b[0m\u001b[0;34m,\u001b[0m\u001b[0;34m\u001b[0m\u001b[0;34m\u001b[0m\u001b[0m\n",
            "\u001b[0;32m/usr/local/lib/python3.11/dist-packages/ipykernel/kernelbase.py\u001b[0m in \u001b[0;36m_input_request\u001b[0;34m(self, prompt, ident, parent, password)\u001b[0m\n\u001b[1;32m   1217\u001b[0m             \u001b[0;32mexcept\u001b[0m \u001b[0mKeyboardInterrupt\u001b[0m\u001b[0;34m:\u001b[0m\u001b[0;34m\u001b[0m\u001b[0;34m\u001b[0m\u001b[0m\n\u001b[1;32m   1218\u001b[0m                 \u001b[0;31m# re-raise KeyboardInterrupt, to truncate traceback\u001b[0m\u001b[0;34m\u001b[0m\u001b[0;34m\u001b[0m\u001b[0m\n\u001b[0;32m-> 1219\u001b[0;31m                 \u001b[0;32mraise\u001b[0m \u001b[0mKeyboardInterrupt\u001b[0m\u001b[0;34m(\u001b[0m\u001b[0;34m\"Interrupted by user\"\u001b[0m\u001b[0;34m)\u001b[0m \u001b[0;32mfrom\u001b[0m \u001b[0;32mNone\u001b[0m\u001b[0;34m\u001b[0m\u001b[0;34m\u001b[0m\u001b[0m\n\u001b[0m\u001b[1;32m   1220\u001b[0m             \u001b[0;32mexcept\u001b[0m \u001b[0mException\u001b[0m\u001b[0;34m:\u001b[0m\u001b[0;34m\u001b[0m\u001b[0;34m\u001b[0m\u001b[0m\n\u001b[1;32m   1221\u001b[0m                 \u001b[0mself\u001b[0m\u001b[0;34m.\u001b[0m\u001b[0mlog\u001b[0m\u001b[0;34m.\u001b[0m\u001b[0mwarning\u001b[0m\u001b[0;34m(\u001b[0m\u001b[0;34m\"Invalid Message:\"\u001b[0m\u001b[0;34m,\u001b[0m \u001b[0mexc_info\u001b[0m\u001b[0;34m=\u001b[0m\u001b[0;32mTrue\u001b[0m\u001b[0;34m)\u001b[0m\u001b[0;34m\u001b[0m\u001b[0;34m\u001b[0m\u001b[0m\n",
            "\u001b[0;31mKeyboardInterrupt\u001b[0m: Interrupted by user"
          ]
        }
      ]
    },
    {
      "cell_type": "code",
      "source": [
        "#5) Receba um número, verifique se é diferente de zero, caso seja diferente,continue retornando falso até que ele digite esse valor\n",
        "\n",
        "m = input(int)\n",
        "\n",
        "while m != \"0\":\n",
        "  print(\"errado\")\n",
        "  input(int)\n",
        "else: print(\"igual a zero\")\n"
      ],
      "metadata": {
        "colab": {
          "base_uri": "https://localhost:8080/",
          "height": 686
        },
        "id": "V_xJlJoejb1G",
        "outputId": "b104f6af-a1e9-4791-bf81-f32169abff47"
      },
      "execution_count": 47,
      "outputs": [
        {
          "output_type": "stream",
          "name": "stdout",
          "text": [
            "<class 'int'>2\n",
            "errado\n",
            "<class 'int'>3\n",
            "errado\n",
            "<class 'int'>4\n",
            "errado\n",
            "<class 'int'>0\n",
            "errado\n",
            "<class 'int'>0\n",
            "errado\n",
            "<class 'int'>0\n",
            "errado\n",
            "<class 'int'>\n",
            "errado\n",
            "<class 'int'>0\n",
            "errado\n",
            "<class 'int'>\n",
            "errado\n",
            "<class 'int'>0\n",
            "errado\n"
          ]
        },
        {
          "output_type": "error",
          "ename": "KeyboardInterrupt",
          "evalue": "Interrupted by user",
          "traceback": [
            "\u001b[0;31m---------------------------------------------------------------------------\u001b[0m",
            "\u001b[0;31mKeyboardInterrupt\u001b[0m                         Traceback (most recent call last)",
            "\u001b[0;32m/tmp/ipython-input-1770254870.py\u001b[0m in \u001b[0;36m<cell line: 0>\u001b[0;34m()\u001b[0m\n\u001b[1;32m      6\u001b[0m \u001b[0;32mwhile\u001b[0m \u001b[0mm\u001b[0m \u001b[0;34m!=\u001b[0m \u001b[0;34m\"0\"\u001b[0m\u001b[0;34m:\u001b[0m\u001b[0;34m\u001b[0m\u001b[0;34m\u001b[0m\u001b[0m\n\u001b[1;32m      7\u001b[0m   \u001b[0mprint\u001b[0m\u001b[0;34m(\u001b[0m\u001b[0;34m\"errado\"\u001b[0m\u001b[0;34m)\u001b[0m\u001b[0;34m\u001b[0m\u001b[0;34m\u001b[0m\u001b[0m\n\u001b[0;32m----> 8\u001b[0;31m   \u001b[0minput\u001b[0m\u001b[0;34m(\u001b[0m\u001b[0mint\u001b[0m\u001b[0;34m)\u001b[0m\u001b[0;34m\u001b[0m\u001b[0;34m\u001b[0m\u001b[0m\n\u001b[0m\u001b[1;32m      9\u001b[0m \u001b[0;32melse\u001b[0m\u001b[0;34m:\u001b[0m \u001b[0mprint\u001b[0m\u001b[0;34m(\u001b[0m\u001b[0;34m\"igual a zero\"\u001b[0m\u001b[0;34m)\u001b[0m\u001b[0;34m\u001b[0m\u001b[0;34m\u001b[0m\u001b[0m\n",
            "\u001b[0;32m/usr/local/lib/python3.11/dist-packages/ipykernel/kernelbase.py\u001b[0m in \u001b[0;36mraw_input\u001b[0;34m(self, prompt)\u001b[0m\n\u001b[1;32m   1175\u001b[0m                 \u001b[0;34m\"raw_input was called, but this frontend does not support input requests.\"\u001b[0m\u001b[0;34m\u001b[0m\u001b[0;34m\u001b[0m\u001b[0m\n\u001b[1;32m   1176\u001b[0m             )\n\u001b[0;32m-> 1177\u001b[0;31m         return self._input_request(\n\u001b[0m\u001b[1;32m   1178\u001b[0m             \u001b[0mstr\u001b[0m\u001b[0;34m(\u001b[0m\u001b[0mprompt\u001b[0m\u001b[0;34m)\u001b[0m\u001b[0;34m,\u001b[0m\u001b[0;34m\u001b[0m\u001b[0;34m\u001b[0m\u001b[0m\n\u001b[1;32m   1179\u001b[0m             \u001b[0mself\u001b[0m\u001b[0;34m.\u001b[0m\u001b[0m_parent_ident\u001b[0m\u001b[0;34m[\u001b[0m\u001b[0;34m\"shell\"\u001b[0m\u001b[0;34m]\u001b[0m\u001b[0;34m,\u001b[0m\u001b[0;34m\u001b[0m\u001b[0;34m\u001b[0m\u001b[0m\n",
            "\u001b[0;32m/usr/local/lib/python3.11/dist-packages/ipykernel/kernelbase.py\u001b[0m in \u001b[0;36m_input_request\u001b[0;34m(self, prompt, ident, parent, password)\u001b[0m\n\u001b[1;32m   1217\u001b[0m             \u001b[0;32mexcept\u001b[0m \u001b[0mKeyboardInterrupt\u001b[0m\u001b[0;34m:\u001b[0m\u001b[0;34m\u001b[0m\u001b[0;34m\u001b[0m\u001b[0m\n\u001b[1;32m   1218\u001b[0m                 \u001b[0;31m# re-raise KeyboardInterrupt, to truncate traceback\u001b[0m\u001b[0;34m\u001b[0m\u001b[0;34m\u001b[0m\u001b[0m\n\u001b[0;32m-> 1219\u001b[0;31m                 \u001b[0;32mraise\u001b[0m \u001b[0mKeyboardInterrupt\u001b[0m\u001b[0;34m(\u001b[0m\u001b[0;34m\"Interrupted by user\"\u001b[0m\u001b[0;34m)\u001b[0m \u001b[0;32mfrom\u001b[0m \u001b[0;32mNone\u001b[0m\u001b[0;34m\u001b[0m\u001b[0;34m\u001b[0m\u001b[0m\n\u001b[0m\u001b[1;32m   1220\u001b[0m             \u001b[0;32mexcept\u001b[0m \u001b[0mException\u001b[0m\u001b[0;34m:\u001b[0m\u001b[0;34m\u001b[0m\u001b[0;34m\u001b[0m\u001b[0m\n\u001b[1;32m   1221\u001b[0m                 \u001b[0mself\u001b[0m\u001b[0;34m.\u001b[0m\u001b[0mlog\u001b[0m\u001b[0;34m.\u001b[0m\u001b[0mwarning\u001b[0m\u001b[0;34m(\u001b[0m\u001b[0;34m\"Invalid Message:\"\u001b[0m\u001b[0;34m,\u001b[0m \u001b[0mexc_info\u001b[0m\u001b[0;34m=\u001b[0m\u001b[0;32mTrue\u001b[0m\u001b[0;34m)\u001b[0m\u001b[0;34m\u001b[0m\u001b[0;34m\u001b[0m\u001b[0m\n",
            "\u001b[0;31mKeyboardInterrupt\u001b[0m: Interrupted by user"
          ]
        }
      ]
    },
    {
      "cell_type": "code",
      "source": [
        "#6) SOMAR NÚMEROS ATÉ QUE O USUÁRIO DIGITE 0\n",
        "\n",
        "soma = 0\n",
        "numero = int(input(\"Digite um número (0 para sair): \"))\n",
        "\n",
        "while numero != 0:\n",
        "    soma += numero\n",
        "    numero = int(input(\"Digite outro número (0 para sair): \"))\n",
        "\n",
        "print(\"A soma dos números digitados é:\", soma)\n"
      ],
      "metadata": {
        "colab": {
          "base_uri": "https://localhost:8080/"
        },
        "id": "HaVDN8BUmPtP",
        "outputId": "d7952a02-7a29-4146-ad18-260fd67c16b6"
      },
      "execution_count": 55,
      "outputs": [
        {
          "output_type": "stream",
          "name": "stdout",
          "text": [
            "Digite um número (0 para sair): 4\n",
            "Digite outro número (0 para sair): 4\n",
            "Digite outro número (0 para sair): 4\n",
            "Digite outro número (0 para sair): 5\n",
            "Digite outro número (0 para sair): 7\n",
            "Digite outro número (0 para sair): 8\n",
            "Digite outro número (0 para sair): 6\n",
            "Digite outro número (0 para sair): 5\n",
            "Digite outro número (0 para sair): 4\n",
            "Digite outro número (0 para sair): 0\n",
            "A soma dos números digitados é: 47\n"
          ]
        }
      ]
    },
    {
      "cell_type": "code",
      "source": [
        "#7) CRIE UM MENU DE OPÇÕES, COM 3 OPÇÕES,E ELE VAI SOLICITANDO NOVAMENTE A OPÇÕES ATÉ QUE O USUÁRIO ESCOLHA A OPÇÃO SAIR\n",
        "def mostrar_menu():\n",
        "  while True:\n",
        "    print(\"\\nMenu:\")\n",
        "    print(\"1. Opção 1\")\n",
        "    print(\"2. Opção 2\")\n",
        "    print(\"3. Opção 3\")\n",
        "    print(\"4. Sair\")\n",
        "\n",
        "    escolha = input(\"Escolha uma opção (1-4): \")\n",
        "\n",
        "    if escolha == '1':\n",
        "      print(\"Você escolheu a Opção 1.\")\n",
        "\n",
        "    elif escolha == '2':\n",
        "      print(\"Você escolheu a Opção 2.\")\n",
        "\n",
        "    elif escolha == '3':\n",
        "      print(\"Você escolheu a Opção 3.\")\n",
        "\n",
        "    elif escolha == '4':\n",
        "      print(\"Saindo do programa.\")\n",
        "      break\n",
        "    else:\n",
        "      print(\"Opção inválida. Tente novamente.\")\n",
        "\n",
        "mostrar_menu()"
      ],
      "metadata": {
        "colab": {
          "base_uri": "https://localhost:8080/"
        },
        "id": "t-ZC23-goJPB",
        "outputId": "53de8dc7-33d9-4e77-cf82-f4fd3a79b21f"
      },
      "execution_count": 57,
      "outputs": [
        {
          "output_type": "stream",
          "name": "stdout",
          "text": [
            "\n",
            "Menu:\n",
            "1. Opção 1\n",
            "2. Opção 2\n",
            "3. Opção 3\n",
            "4. Sair\n",
            "Escolha uma opção (1-4): 1\n",
            "Você escolheu a Opção 1.\n",
            "\n",
            "Menu:\n",
            "1. Opção 1\n",
            "2. Opção 2\n",
            "3. Opção 3\n",
            "4. Sair\n",
            "Escolha uma opção (1-4): 2\n",
            "Você escolheu a Opção 2.\n",
            "\n",
            "Menu:\n",
            "1. Opção 1\n",
            "2. Opção 2\n",
            "3. Opção 3\n",
            "4. Sair\n",
            "Escolha uma opção (1-4): 3\n",
            "Você escolheu a Opção 3.\n",
            "\n",
            "Menu:\n",
            "1. Opção 1\n",
            "2. Opção 2\n",
            "3. Opção 3\n",
            "4. Sair\n",
            "Escolha uma opção (1-4): 5\n",
            "Opção inválida. Tente novamente.\n",
            "\n",
            "Menu:\n",
            "1. Opção 1\n",
            "2. Opção 2\n",
            "3. Opção 3\n",
            "4. Sair\n",
            "Escolha uma opção (1-4): 4\n",
            "Saindo do programa.\n"
          ]
        }
      ]
    }
  ]
}